{
 "cells": [
  {
   "cell_type": "markdown",
   "metadata": {},
   "source": [
    "## Necessary Imports"
   ]
  },
  {
   "cell_type": "code",
   "execution_count": 3,
   "metadata": {
    "collapsed": true
   },
   "outputs": [],
   "source": [
    "import json\n",
    "from dotenv import load_dotenv\n",
    "from os.path import join, dirname\n",
    "import os\n",
    "import requests\n",
    "import pandas as pd\n",
    "import numpy as np\n",
    "from collections import Counter\n",
    "import watson_developer_cloud\n",
    "import watson_developer_cloud.natural_language_understanding.features.v1 as features"
   ]
  },
  {
   "cell_type": "code",
   "execution_count": 4,
   "metadata": {},
   "outputs": [
    {
     "data": {
      "text/plain": [
       "True"
      ]
     },
     "execution_count": 4,
     "metadata": {},
     "output_type": "execute_result"
    }
   ],
   "source": [
    "load_dotenv('.env')"
   ]
  },
  {
   "cell_type": "markdown",
   "metadata": {},
   "source": [
    "## Credentials\n",
    "Watson Credentials"
   ]
  },
  {
   "cell_type": "code",
   "execution_count": 5,
   "metadata": {
    "collapsed": true
   },
   "outputs": [],
   "source": [
    "username=os.environ.get('NLU_USERNAME')"
   ]
  },
  {
   "cell_type": "code",
   "execution_count": 6,
   "metadata": {
    "collapsed": true
   },
   "outputs": [],
   "source": [
    "password = os.environ.get('NLU_PASSWORD')"
   ]
  },
  {
   "cell_type": "markdown",
   "metadata": {},
   "source": [
    "Foursquare Credentials"
   ]
  },
  {
   "cell_type": "code",
   "execution_count": 7,
   "metadata": {
    "collapsed": true
   },
   "outputs": [],
   "source": [
    "foursquare_client_id=os.environ.get('FOURSQUARE_CLIENT_ID')"
   ]
  },
  {
   "cell_type": "code",
   "execution_count": 8,
   "metadata": {
    "collapsed": true
   },
   "outputs": [],
   "source": [
    "foursquare_client_secret=os.environ.get('FOURSQUARE_CLIENT_SECRET')"
   ]
  },
  {
   "cell_type": "markdown",
   "metadata": {},
   "source": [
    "Toy variables to mess around with"
   ]
  },
  {
   "cell_type": "markdown",
   "metadata": {},
   "source": [
    "Lat and long for Galvanize"
   ]
  },
  {
   "cell_type": "code",
   "execution_count": 9,
   "metadata": {
    "collapsed": true
   },
   "outputs": [],
   "source": [
    "lat = 40.7263874"
   ]
  },
  {
   "cell_type": "code",
   "execution_count": 10,
   "metadata": {
    "collapsed": true
   },
   "outputs": [],
   "source": [
    "long = -74.0076351"
   ]
  },
  {
   "cell_type": "code",
   "execution_count": 11,
   "metadata": {
    "collapsed": true
   },
   "outputs": [],
   "source": [
    "VERSION = \"20170511\"\n",
    "LIMIT = 30\n",
    "radius = 1000"
   ]
  },
  {
   "cell_type": "code",
   "execution_count": 12,
   "metadata": {
    "collapsed": true
   },
   "outputs": [],
   "source": [
    "with open('venues.json') as jsonfile:\n",
    "    data = json.load(jsonfile)"
   ]
  },
  {
   "cell_type": "code",
   "execution_count": 14,
   "metadata": {},
   "outputs": [],
   "source": [
    "data;"
   ]
  },
  {
   "cell_type": "code",
   "execution_count": 15,
   "metadata": {
    "collapsed": true
   },
   "outputs": [],
   "source": [
    "venue_id = \"5018507fe4b03a729d0b40f9\" # ID of Galli Restaurant\n",
    "\n",
    "url=\"https://api.foursquare.com/v2/venues/{}/tips?client_id={}&client_secret={}&v={}&limit=150\".format(venue_id, foursquare_client_id, foursquare_client_secret, VERSION)\n",
    "\n",
    "tips_galli = requests.get(url).json()"
   ]
  },
  {
   "cell_type": "code",
   "execution_count": 16,
   "metadata": {
    "collapsed": true
   },
   "outputs": [],
   "source": [
    "def pull_foursquare_json(venue_id):\n",
    "    VERSION = \"20170511\"\n",
    "    foursquare_client_id=os.environ.get('FOURSQUARE_CLIENT_ID')\n",
    "    foursquare_client_secret=os.environ.get('FOURSQUARE_CLIENT_SECRET')\n",
    "    url=\"https://api.foursquare.com/v2/venues/{}/tips?client_id={}&client_secret={}&v={}&limit=150\".format(venue_id, foursquare_client_id, foursquare_client_secret, VERSION)\n",
    "    json_f = requests.get(url).json()\n",
    "    return json_f"
   ]
  },
  {
   "cell_type": "code",
   "execution_count": 1,
   "metadata": {
    "collapsed": true
   },
   "outputs": [],
   "source": [
    "adriano_venues = ['458d06def964a520ff3f1fe3',\n",
    "'49e8896cf964a5204e651fe3',\n",
    "'3fd66200f964a52022e51ee3',\n",
    "'5549770d498ebdb938cbbfdb',\n",
    "'4f00dea9f9abd5b3917d422c',\n",
    "'4ca0d958e9a7ef3be3085416',\n",
    "'528bf7bb498eb53e3fc85459',\n",
    "'4b81d8ccf964a520efc030e3',\n",
    "'49c6a988f964a5206e571fe3',\n",
    "'3fd66200f964a5203ce51ee3',\n",
    "'5663930f498e7b6bc21ad5cb',\n",
    "'3fd66200f964a5203fe51ee3',\n",
    "'4e0bb695e4cd92446c4118c2',\n",
    "'522779fd498e916ef366c9af',\n",
    "'4c2d54564e132d7f4d5b9cdf',\n",
    "'4ae1b55df964a520df8621e3',\n",
    "'5567a24b498e808c28b063a8',\n",
    "'57ae60d5498eeb5b2be11669',\n",
    "'589a66b251666a5ffadde9ea',\n",
    "'5278239511d21f157efb88ad',\n",
    "'5894e784e786b25ad37bb0b9',\n",
    "'535430ba498eebb09d9da204',\n",
    "'4bc20e832a89ef3b9f20f388',\n",
    "'55848bbe498e7320863b7e6f',\n",
    "'4bbd3ab4a0a0c9b6c2761b0f',\n",
    "'58e0243b126ae87997d6fb4a',\n",
    "'54372735498e88c18bf2508d',\n",
    "'56607b3c498e44b0574d4fb8',\n",
    "'4e4e6c2cbd4101d0d7a9d0ed',\n",
    "'515392c4e4b0f03a43c69fce']"
   ]
  },
  {
   "cell_type": "code",
   "execution_count": 17,
   "metadata": {
    "collapsed": true
   },
   "outputs": [],
   "source": [
    "randy_dict={\"T.G.I. Friday's\": 0.03527357894736842, 'French fries': 0.04078621052631579, 'Garden strawberry': 0.024892210526315788, 'Salads': 0.04030547368421053, 'Soy milk': 0.02043984210526316, 'Drive-through': 0.08060647368421052, 'Stout': 0.04002647368421053, 'Smoothie': 0.03555315789473684, 'Tea': 0.07419473684210526, \"Hors d'œuvre\": 0.03084421052631579, 'Alcoholic beverage': 0.03396836842105263, 'Coors Brewing Company': 0.025368105263157893, \"Dunkin' Donuts\": 0.045095052631578945, 'Desserts': 0.042229526315789474, 'Maize': 0.04847305263157895, \"McDonald's\": 0.09565015789473684, 'Sugar': 0.034, 'Iced coffee': 0.04958947368421053, 'Customer': 0.05142552631578947, 'Good': 0.03181273684210526, 'New Mexican cuisine': 0.039545473684210526, 'Krispy Kreme': 0.033870578947368425, 'Nutrition': 0.045871105263157894, 'Milk': 0.049107368421052636, 'Breakfast foods': 0.04515447368421053, 'Vending machine': 0.02937636842105263, 'Debut albums': 0.053903, 'Buffalo wings': 0.07243063157894737, 'Soda fountain': 0.03804994736842105, 'Starbucks': 0.15132515789473686, 'Parking lot': 0.028689105263157898, 'Hungarian cuisine': 0.051270526315789475, 'American cuisine': 0.03288747368421053, 'Coffee': 0.2663545263157895, 'Flatbreads': 0.03442984210526316, 'Toast': 0.031558105263157894, 'Barista': 0.02056557894736842, 'Hot chocolate': 0.03217652631578947, 'Internet': 0.020570473684210527, 'Mayonnaise': 0.041639368421052626, 'French onion soup': 0.04097278947368421, 'Pennsylvania': 0.041971684210526314, 'The Skinny': 0.025386789473684213, '2005 albums': 0.024021526315789476, 'Mister Donut': 0.030257052631578945, 'Salad': 0.05135705263157895, 'Bartender': 0.026027894736842107, 'Pudding': 0.03565094736842105, 'Apple': 0.04742078947368421, 'Coca-Cola': 0.0476398947368421, 'Full breakfast': 0.03141573684210526, 'Albany, New York': 0.028263842105263157, 'Vanilla': 0.02676136842105263, 'Soft drink': 0.050869, 'Sandwich': 0.05175457894736842, 'Block': 0.02600021052631579, 'Waiting staff': 0.026100473684210524, 'Appetizers': 0.04930021052631579, 'Bacon': 0.030486157894736843, 'Coffee culture': 0.05156984210526316, 'Pie': 0.04557631578947369, 'Coca-Cola Black Cherry Vanilla': 0.03817884210526316, 'New York City': 0.05335578947368421, 'Bagel': 0.102008, 'Kringle': 0.040217368421052634, 'Chicken': 0.043589368421052634, 'Meat': 0.04627768421052631, 'Bread': 0.06575463157894737, \"Jack Daniel's\": 0.025390105263157894, 'Drink': 0.027132736842105265, 'German cuisine': 0.03911036842105263, 'Pork': 0.044053736842105264, 'Pretzel': 0.04419631578947368, 'Ice cream': 0.02725284210526316, 'Fast food': 0.07426363157894737, 'Milkshake': 0.09707557894736842, 'Diedrich Coffee': 0.023581894736842107, 'Egg sandwich': 0.017184315789473686, 'Juice': 0.037463315789473685, 'Latte': 0.03423473684210526, 'Bag-In-Box': 0.038551894736842104, 'Service': 0.03869989473684211, 'Hamburger': 0.05144894736842105, 'Beef': 0.039538789473684215, 'Espresso': 0.18347963157894737, 'Potato salad': 0.03235736842105263, 'Meal': 0.08118757894736842, 'Taste': 0.032445842105263155, 'Breakfast': 0.034487894736842106, 'Coffeehouse': 0.095212, '2006 albums': 0.07026657894736843, 'Doughnut': 0.05020957894736842, 'English-language films': 0.13799373684210525, 'Cashier': 0.025363315789473685, 'Egg salad': 0.03049278947368421, 'Drive-in': 0.049175315789473685, 'Customer service': 0.04412484210526316, 'Diet Coke': 0.04273321052631579, 'American films': 0.027467631578947372}"
   ]
  },
  {
   "cell_type": "code",
   "execution_count": 19,
   "metadata": {},
   "outputs": [
    {
     "data": {
      "text/plain": [
       "{'2005 albums': 0.024021526315789476,\n",
       " '2006 albums': 0.07026657894736843,\n",
       " 'Albany, New York': 0.028263842105263157,\n",
       " 'Alcoholic beverage': 0.03396836842105263,\n",
       " 'American cuisine': 0.03288747368421053,\n",
       " 'American films': 0.027467631578947372,\n",
       " 'Appetizers': 0.04930021052631579,\n",
       " 'Apple': 0.04742078947368421,\n",
       " 'Bacon': 0.030486157894736843,\n",
       " 'Bag-In-Box': 0.038551894736842104,\n",
       " 'Bagel': 0.102008,\n",
       " 'Barista': 0.02056557894736842,\n",
       " 'Bartender': 0.026027894736842107,\n",
       " 'Beef': 0.039538789473684215,\n",
       " 'Block': 0.02600021052631579,\n",
       " 'Bread': 0.06575463157894737,\n",
       " 'Breakfast': 0.034487894736842106,\n",
       " 'Breakfast foods': 0.04515447368421053,\n",
       " 'Buffalo wings': 0.07243063157894737,\n",
       " 'Cashier': 0.025363315789473685,\n",
       " 'Chicken': 0.043589368421052634,\n",
       " 'Coca-Cola': 0.0476398947368421,\n",
       " 'Coca-Cola Black Cherry Vanilla': 0.03817884210526316,\n",
       " 'Coffee': 0.2663545263157895,\n",
       " 'Coffee culture': 0.05156984210526316,\n",
       " 'Coffeehouse': 0.095212,\n",
       " 'Coors Brewing Company': 0.025368105263157893,\n",
       " 'Customer': 0.05142552631578947,\n",
       " 'Customer service': 0.04412484210526316,\n",
       " 'Debut albums': 0.053903,\n",
       " 'Desserts': 0.042229526315789474,\n",
       " 'Diedrich Coffee': 0.023581894736842107,\n",
       " 'Diet Coke': 0.04273321052631579,\n",
       " 'Doughnut': 0.05020957894736842,\n",
       " 'Drink': 0.027132736842105265,\n",
       " 'Drive-in': 0.049175315789473685,\n",
       " 'Drive-through': 0.08060647368421052,\n",
       " \"Dunkin' Donuts\": 0.045095052631578945,\n",
       " 'Egg salad': 0.03049278947368421,\n",
       " 'Egg sandwich': 0.017184315789473686,\n",
       " 'English-language films': 0.13799373684210525,\n",
       " 'Espresso': 0.18347963157894737,\n",
       " 'Fast food': 0.07426363157894737,\n",
       " 'Flatbreads': 0.03442984210526316,\n",
       " 'French fries': 0.04078621052631579,\n",
       " 'French onion soup': 0.04097278947368421,\n",
       " 'Full breakfast': 0.03141573684210526,\n",
       " 'Garden strawberry': 0.024892210526315788,\n",
       " 'German cuisine': 0.03911036842105263,\n",
       " 'Good': 0.03181273684210526,\n",
       " 'Hamburger': 0.05144894736842105,\n",
       " \"Hors d'œuvre\": 0.03084421052631579,\n",
       " 'Hot chocolate': 0.03217652631578947,\n",
       " 'Hungarian cuisine': 0.051270526315789475,\n",
       " 'Ice cream': 0.02725284210526316,\n",
       " 'Iced coffee': 0.04958947368421053,\n",
       " 'Internet': 0.020570473684210527,\n",
       " \"Jack Daniel's\": 0.025390105263157894,\n",
       " 'Juice': 0.037463315789473685,\n",
       " 'Kringle': 0.040217368421052634,\n",
       " 'Krispy Kreme': 0.033870578947368425,\n",
       " 'Latte': 0.03423473684210526,\n",
       " 'Maize': 0.04847305263157895,\n",
       " 'Mayonnaise': 0.041639368421052626,\n",
       " \"McDonald's\": 0.09565015789473684,\n",
       " 'Meal': 0.08118757894736842,\n",
       " 'Meat': 0.04627768421052631,\n",
       " 'Milk': 0.049107368421052636,\n",
       " 'Milkshake': 0.09707557894736842,\n",
       " 'Mister Donut': 0.030257052631578945,\n",
       " 'New Mexican cuisine': 0.039545473684210526,\n",
       " 'New York City': 0.05335578947368421,\n",
       " 'Nutrition': 0.045871105263157894,\n",
       " 'Parking lot': 0.028689105263157898,\n",
       " 'Pennsylvania': 0.041971684210526314,\n",
       " 'Pie': 0.04557631578947369,\n",
       " 'Pork': 0.044053736842105264,\n",
       " 'Potato salad': 0.03235736842105263,\n",
       " 'Pretzel': 0.04419631578947368,\n",
       " 'Pudding': 0.03565094736842105,\n",
       " 'Salad': 0.05135705263157895,\n",
       " 'Salads': 0.04030547368421053,\n",
       " 'Sandwich': 0.05175457894736842,\n",
       " 'Service': 0.03869989473684211,\n",
       " 'Smoothie': 0.03555315789473684,\n",
       " 'Soda fountain': 0.03804994736842105,\n",
       " 'Soft drink': 0.050869,\n",
       " 'Soy milk': 0.02043984210526316,\n",
       " 'Starbucks': 0.15132515789473686,\n",
       " 'Stout': 0.04002647368421053,\n",
       " 'Sugar': 0.034,\n",
       " \"T.G.I. Friday's\": 0.03527357894736842,\n",
       " 'Taste': 0.032445842105263155,\n",
       " 'Tea': 0.07419473684210526,\n",
       " 'The Skinny': 0.025386789473684213,\n",
       " 'Toast': 0.031558105263157894,\n",
       " 'Vanilla': 0.02676136842105263,\n",
       " 'Vending machine': 0.02937636842105263,\n",
       " 'Waiting staff': 0.026100473684210524}"
      ]
     },
     "execution_count": 19,
     "metadata": {},
     "output_type": "execute_result"
    }
   ],
   "source": [
    "randy_dict"
   ]
  },
  {
   "cell_type": "code",
   "execution_count": 21,
   "metadata": {},
   "outputs": [],
   "source": [
    "tips_galli;"
   ]
  },
  {
   "cell_type": "code",
   "execution_count": 22,
   "metadata": {},
   "outputs": [
    {
     "data": {
      "text/plain": [
       "123"
      ]
     },
     "execution_count": 22,
     "metadata": {},
     "output_type": "execute_result"
    }
   ],
   "source": [
    "len(tips_galli['response']['tips']['items'][:])"
   ]
  },
  {
   "cell_type": "code",
   "execution_count": 23,
   "metadata": {},
   "outputs": [
    {
     "data": {
      "text/plain": [
       "123"
      ]
     },
     "execution_count": 23,
     "metadata": {},
     "output_type": "execute_result"
    }
   ],
   "source": [
    "tips_galli['response']['tips']['count']"
   ]
  },
  {
   "cell_type": "code",
   "execution_count": 24,
   "metadata": {},
   "outputs": [
    {
     "data": {
      "text/plain": [
       "\"Classic italian done right. The Mad Calamari smothered in spicy marinara is a MUST. Go with the penne w/ vodka sauce or carbonara and you'll leave happy. Pay with cover and skip waiting for the check!\""
      ]
     },
     "execution_count": 24,
     "metadata": {},
     "output_type": "execute_result"
    }
   ],
   "source": [
    "tips_galli['response']['tips']['items'][1]['text']"
   ]
  },
  {
   "cell_type": "markdown",
   "metadata": {},
   "source": [
    "## Function to get list of tips for a given restaurant"
   ]
  },
  {
   "cell_type": "code",
   "execution_count": 90,
   "metadata": {
    "collapsed": true
   },
   "outputs": [],
   "source": [
    "# Helper function to return list of tips from restaurant's JSON file\n",
    "def tips_list(json_file):\n",
    "    try:\n",
    "        num_tips = json_file['response']['tips']['count']\n",
    "        return [json_file['response']['tips']['items'][k]['text'] for k in range(num_tips)]\n",
    "    except:\n",
    "        return [\"\"]"
   ]
  },
  {
   "cell_type": "code",
   "execution_count": 26,
   "metadata": {
    "collapsed": true
   },
   "outputs": [],
   "source": [
    "list_of_tips = tips_list(tips_galli)"
   ]
  },
  {
   "cell_type": "code",
   "execution_count": 27,
   "metadata": {
    "collapsed": true
   },
   "outputs": [],
   "source": [
    "venue_ids = ['4bbf6b6430c99c74302a5511', '4baff5d9f964a5207c2e3ce3', '5018507fe4b03a729d0b40f9', '3fd66200f964a5209ae31ee3', '3fd66200f964a520ade61ee3']"
   ]
  },
  {
   "cell_type": "markdown",
   "metadata": {},
   "source": [
    "## Combine users's preferences\n",
    "Combine two user's preferences (as defined by tone analysis) into two dicts, combining values if necessary"
   ]
  },
  {
   "cell_type": "code",
   "execution_count": 28,
   "metadata": {
    "collapsed": true
   },
   "outputs": [],
   "source": [
    "u_1 = Counter({'sushi':0.7, 'mexican':0.67, 'drinks':0.64, 'korean':0.5, 'russian':0.4, 'whiskey':1, 'tacos':.3})"
   ]
  },
  {
   "cell_type": "code",
   "execution_count": 29,
   "metadata": {
    "collapsed": true
   },
   "outputs": [],
   "source": [
    "u_2 = Counter({'whiskey':0.3, 'deli':0.9, 'hamburger':0.99, 'tacos':0.3, 'brewery':0.2})"
   ]
  },
  {
   "cell_type": "code",
   "execution_count": 30,
   "metadata": {
    "collapsed": true
   },
   "outputs": [],
   "source": [
    "u_1_dict = {'sushi':0.7, 'mexican':0.67, 'drinks':0.64, 'korean':0.5, 'russian':0.4, 'whiskey':1, 'tacos':.3}"
   ]
  },
  {
   "cell_type": "code",
   "execution_count": 31,
   "metadata": {
    "collapsed": true
   },
   "outputs": [],
   "source": [
    "u_2_dict= {'whiskey':0.3, 'deli':0.9, 'hamburger':0.99, 'tacos':0.3, 'brewery':0.2}"
   ]
  },
  {
   "cell_type": "code",
   "execution_count": 32,
   "metadata": {
    "collapsed": true
   },
   "outputs": [],
   "source": [
    "u_1_counter = Counter(u_1_dict)"
   ]
  },
  {
   "cell_type": "code",
   "execution_count": 33,
   "metadata": {},
   "outputs": [
    {
     "data": {
      "text/plain": [
       "True"
      ]
     },
     "execution_count": 33,
     "metadata": {},
     "output_type": "execute_result"
    }
   ],
   "source": [
    "u_1 == u_1_counter"
   ]
  },
  {
   "cell_type": "code",
   "execution_count": 34,
   "metadata": {
    "collapsed": true
   },
   "outputs": [],
   "source": [
    "u_f = u_1 + u_2"
   ]
  },
  {
   "cell_type": "code",
   "execution_count": 35,
   "metadata": {},
   "outputs": [
    {
     "data": {
      "text/plain": [
       "Counter({'brewery': 0.2,\n",
       "         'deli': 0.9,\n",
       "         'drinks': 0.64,\n",
       "         'hamburger': 0.99,\n",
       "         'korean': 0.5,\n",
       "         'mexican': 0.67,\n",
       "         'russian': 0.4,\n",
       "         'sushi': 0.7,\n",
       "         'tacos': 0.6,\n",
       "         'whiskey': 1.3})"
      ]
     },
     "execution_count": 35,
     "metadata": {},
     "output_type": "execute_result"
    }
   ],
   "source": [
    "u_f"
   ]
  },
  {
   "cell_type": "code",
   "execution_count": 36,
   "metadata": {
    "collapsed": true
   },
   "outputs": [],
   "source": [
    "dx = u_f.most_common"
   ]
  },
  {
   "cell_type": "code",
   "execution_count": 37,
   "metadata": {
    "collapsed": true
   },
   "outputs": [],
   "source": [
    "factor = 1/sum(u_f.values())"
   ]
  },
  {
   "cell_type": "code",
   "execution_count": 38,
   "metadata": {},
   "outputs": [
    {
     "data": {
      "text/plain": [
       "0.14492753623188406"
      ]
     },
     "execution_count": 38,
     "metadata": {},
     "output_type": "execute_result"
    }
   ],
   "source": [
    "factor"
   ]
  },
  {
   "cell_type": "code",
   "execution_count": 39,
   "metadata": {},
   "outputs": [
    {
     "data": {
      "text/plain": [
       "['sushi',\n",
       " 'mexican',\n",
       " 'drinks',\n",
       " 'korean',\n",
       " 'russian',\n",
       " 'whiskey',\n",
       " 'tacos',\n",
       " 'deli',\n",
       " 'hamburger',\n",
       " 'brewery']"
      ]
     },
     "execution_count": 39,
     "metadata": {},
     "output_type": "execute_result"
    }
   ],
   "source": [
    "[key for key in u_f.keys()]"
   ]
  },
  {
   "cell_type": "code",
   "execution_count": 40,
   "metadata": {},
   "outputs": [
    {
     "data": {
      "text/plain": [
       "[('whiskey', 1.3),\n",
       " ('hamburger', 0.99),\n",
       " ('deli', 0.9),\n",
       " ('sushi', 0.7),\n",
       " ('mexican', 0.67)]"
      ]
     },
     "execution_count": 40,
     "metadata": {},
     "output_type": "execute_result"
    }
   ],
   "source": [
    "u_f.most_common(5)"
   ]
  },
  {
   "cell_type": "code",
   "execution_count": 41,
   "metadata": {},
   "outputs": [
    {
     "data": {
      "text/plain": [
       "[0.7, 0.67, 0.64, 0.5, 0.4, 1.3, 0.6, 0.9, 0.99, 0.2]"
      ]
     },
     "execution_count": 41,
     "metadata": {},
     "output_type": "execute_result"
    }
   ],
   "source": [
    "[val for val in u_f.values()]"
   ]
  },
  {
   "cell_type": "code",
   "execution_count": 42,
   "metadata": {
    "collapsed": true
   },
   "outputs": [],
   "source": [
    "vallist = [val for val in u_f.values()]"
   ]
  },
  {
   "cell_type": "code",
   "execution_count": 43,
   "metadata": {},
   "outputs": [
    {
     "data": {
      "text/plain": [
       "[0.7, 0.67, 0.64, 0.5, 0.4, 1.3, 0.6, 0.9, 0.99, 0.2]"
      ]
     },
     "execution_count": 43,
     "metadata": {},
     "output_type": "execute_result"
    }
   ],
   "source": [
    "vallist"
   ]
  },
  {
   "cell_type": "code",
   "execution_count": 44,
   "metadata": {
    "collapsed": true
   },
   "outputs": [],
   "source": [
    "med = np.median(vallist)"
   ]
  },
  {
   "cell_type": "code",
   "execution_count": 45,
   "metadata": {
    "collapsed": true
   },
   "outputs": [],
   "source": [
    "normed_val = [val/med for val in vallist]"
   ]
  },
  {
   "cell_type": "code",
   "execution_count": 46,
   "metadata": {},
   "outputs": [
    {
     "data": {
      "text/plain": [
       "[1.0687022900763357,\n",
       " 1.0229007633587786,\n",
       " 0.97709923664122134,\n",
       " 0.76335877862595414,\n",
       " 0.61068702290076338,\n",
       " 1.9847328244274809,\n",
       " 0.91603053435114501,\n",
       " 1.3740458015267176,\n",
       " 1.5114503816793892,\n",
       " 0.30534351145038169]"
      ]
     },
     "execution_count": 46,
     "metadata": {},
     "output_type": "execute_result"
    }
   ],
   "source": [
    "normed_val"
   ]
  },
  {
   "cell_type": "code",
   "execution_count": 47,
   "metadata": {
    "collapsed": true
   },
   "outputs": [],
   "source": [
    "# Function takes in two user preference dicts and outputs indexed pandas vector, index for matrix\n",
    "\n",
    "from collections import Counter\n",
    "import pandas as pd\n",
    "\n",
    "def combine_u_prefs(u1_dict, u2_dict, k):\n",
    "    u1_counter = Counter(u1_dict)\n",
    "    u2_counter = Counter(u2_dict)\n",
    "    u_prefs = u1_counter + u2_counter\n",
    "    # Pull k highest values\n",
    "    u_prefs_top = dict(u_prefs.most_common(k))\n",
    "    vallist = [val for val in u_prefs_top.values()]\n",
    "    factor = np.median(vallist)\n",
    "    normed_val = [val/factor for val in vallist]\n",
    "    topic_idx = [key for key in u_prefs_top.keys()]\n",
    "    pref_vec = pd.Series(data=normed_val, index=topic_idx)\n",
    "    return pref_vec, topic_idx"
   ]
  },
  {
   "cell_type": "code",
   "execution_count": 48,
   "metadata": {
    "collapsed": true
   },
   "outputs": [],
   "source": [
    "pref_vec, topic_idx = combine_u_prefs(u_1_dict, u_2_dict, 4)"
   ]
  },
  {
   "cell_type": "code",
   "execution_count": 49,
   "metadata": {},
   "outputs": [
    {
     "data": {
      "text/plain": [
       "whiskey      1.375661\n",
       "hamburger    1.047619\n",
       "deli         0.952381\n",
       "sushi        0.740741\n",
       "dtype: float64"
      ]
     },
     "execution_count": 49,
     "metadata": {},
     "output_type": "execute_result"
    }
   ],
   "source": [
    "pref_vec"
   ]
  },
  {
   "cell_type": "code",
   "execution_count": 50,
   "metadata": {},
   "outputs": [
    {
     "data": {
      "text/plain": [
       "['whiskey', 'hamburger', 'deli', 'sushi']"
      ]
     },
     "execution_count": 50,
     "metadata": {},
     "output_type": "execute_result"
    }
   ],
   "source": [
    "topic_idx"
   ]
  },
  {
   "cell_type": "markdown",
   "metadata": {},
   "source": [
    "## Get venue list, topic idx return matrix"
   ]
  },
  {
   "cell_type": "code",
   "execution_count": 51,
   "metadata": {},
   "outputs": [
    {
     "data": {
      "text/plain": [
       "['4bbf6b6430c99c74302a5511',\n",
       " '4baff5d9f964a5207c2e3ce3',\n",
       " '5018507fe4b03a729d0b40f9',\n",
       " '3fd66200f964a5209ae31ee3',\n",
       " '3fd66200f964a520ade61ee3']"
      ]
     },
     "execution_count": 51,
     "metadata": {},
     "output_type": "execute_result"
    }
   ],
   "source": [
    "venue_ids"
   ]
  },
  {
   "cell_type": "code",
   "execution_count": 52,
   "metadata": {
    "collapsed": true
   },
   "outputs": [],
   "source": [
    "def construct_matrix(venue_ids, topic_idx):\n",
    "    empty_matrix = pd.DataFrame(index=venue_ids, columns=topic_idx)\n",
    "    return empty_matrix"
   ]
  },
  {
   "cell_type": "code",
   "execution_count": 53,
   "metadata": {
    "collapsed": true
   },
   "outputs": [],
   "source": [
    "mat = construct_matrix(venue_ids, topic_idx)"
   ]
  },
  {
   "cell_type": "code",
   "execution_count": 54,
   "metadata": {},
   "outputs": [
    {
     "data": {
      "text/html": [
       "<div>\n",
       "<style>\n",
       "    .dataframe thead tr:only-child th {\n",
       "        text-align: right;\n",
       "    }\n",
       "\n",
       "    .dataframe thead th {\n",
       "        text-align: left;\n",
       "    }\n",
       "\n",
       "    .dataframe tbody tr th {\n",
       "        vertical-align: top;\n",
       "    }\n",
       "</style>\n",
       "<table border=\"1\" class=\"dataframe\">\n",
       "  <thead>\n",
       "    <tr style=\"text-align: right;\">\n",
       "      <th></th>\n",
       "      <th>whiskey</th>\n",
       "      <th>hamburger</th>\n",
       "      <th>deli</th>\n",
       "      <th>sushi</th>\n",
       "    </tr>\n",
       "  </thead>\n",
       "  <tbody>\n",
       "    <tr>\n",
       "      <th>4bbf6b6430c99c74302a5511</th>\n",
       "      <td>NaN</td>\n",
       "      <td>NaN</td>\n",
       "      <td>NaN</td>\n",
       "      <td>NaN</td>\n",
       "    </tr>\n",
       "    <tr>\n",
       "      <th>4baff5d9f964a5207c2e3ce3</th>\n",
       "      <td>NaN</td>\n",
       "      <td>NaN</td>\n",
       "      <td>NaN</td>\n",
       "      <td>NaN</td>\n",
       "    </tr>\n",
       "    <tr>\n",
       "      <th>5018507fe4b03a729d0b40f9</th>\n",
       "      <td>NaN</td>\n",
       "      <td>NaN</td>\n",
       "      <td>NaN</td>\n",
       "      <td>NaN</td>\n",
       "    </tr>\n",
       "    <tr>\n",
       "      <th>3fd66200f964a5209ae31ee3</th>\n",
       "      <td>NaN</td>\n",
       "      <td>NaN</td>\n",
       "      <td>NaN</td>\n",
       "      <td>NaN</td>\n",
       "    </tr>\n",
       "    <tr>\n",
       "      <th>3fd66200f964a520ade61ee3</th>\n",
       "      <td>NaN</td>\n",
       "      <td>NaN</td>\n",
       "      <td>NaN</td>\n",
       "      <td>NaN</td>\n",
       "    </tr>\n",
       "  </tbody>\n",
       "</table>\n",
       "</div>"
      ],
      "text/plain": [
       "                         whiskey hamburger deli sushi\n",
       "4bbf6b6430c99c74302a5511     NaN       NaN  NaN   NaN\n",
       "4baff5d9f964a5207c2e3ce3     NaN       NaN  NaN   NaN\n",
       "5018507fe4b03a729d0b40f9     NaN       NaN  NaN   NaN\n",
       "3fd66200f964a5209ae31ee3     NaN       NaN  NaN   NaN\n",
       "3fd66200f964a520ade61ee3     NaN       NaN  NaN   NaN"
      ]
     },
     "execution_count": 54,
     "metadata": {},
     "output_type": "execute_result"
    }
   ],
   "source": [
    "mat"
   ]
  },
  {
   "cell_type": "code",
   "execution_count": 55,
   "metadata": {},
   "outputs": [
    {
     "data": {
      "text/plain": [
       "whiskey      1.375661\n",
       "hamburger    1.047619\n",
       "deli         0.952381\n",
       "sushi        0.740741\n",
       "dtype: float64"
      ]
     },
     "execution_count": 55,
     "metadata": {},
     "output_type": "execute_result"
    }
   ],
   "source": [
    "pref_vec"
   ]
  },
  {
   "cell_type": "code",
   "execution_count": 58,
   "metadata": {
    "collapsed": true
   },
   "outputs": [],
   "source": [
    "from dotenv import load_dotenv\n",
    "from os.path import join, dirname\n",
    "import os\n",
    "import watson_developer_cloud\n",
    "import watson_developer_cloud.natural_language_understanding.features.v1 as features\n",
    "\n",
    "def sentiment(tips):\n",
    "    # Helper function to return text sentiment analysis\n",
    "    # Load Watson credentials\n",
    "    username=os.environ.get('NLU_USERNAME')\n",
    "    password = os.environ.get('NLU_PASSWORD')\n",
    "    nlu = watson_developer_cloud.NaturalLanguageUnderstandingV1(version='2017-02-27',\n",
    "        username=username, password=password)\n",
    "    output = nlu.analyze(text=tips, features=[features.Sentiment()])\n",
    "    return output['sentiment']['document']['score']"
   ]
  },
  {
   "cell_type": "markdown",
   "metadata": {},
   "source": [
    "## Get empty matrix, return topic scores"
   ]
  },
  {
   "cell_type": "code",
   "execution_count": 88,
   "metadata": {
    "collapsed": true
   },
   "outputs": [],
   "source": [
    "def fill_sentiment_matrix(mat):\n",
    "    for j in range(mat.shape[0]):\n",
    "        venue_id = mat.index[j]\n",
    "        json_f = pull_foursquare_json(venue_id)\n",
    "        tips = tips_list(json_f)\n",
    "        for k in range(mat.shape[1]):\n",
    "            topic = mat.columns[k]\n",
    "            score = np.median([sentiment(tip) for tip in tips if topic in tip])\n",
    "            mat.loc[venue_id, topic] = score\n",
    "    return mat.fillna(0)"
   ]
  },
  {
   "cell_type": "code",
   "execution_count": 60,
   "metadata": {},
   "outputs": [
    {
     "name": "stderr",
     "output_type": "stream",
     "text": [
      "/home/kt12/anaconda3/lib/python3.6/site-packages/numpy/core/fromnumeric.py:2889: RuntimeWarning: Mean of empty slice.\n",
      "  out=out, **kwargs)\n",
      "/home/kt12/anaconda3/lib/python3.6/site-packages/numpy/core/_methods.py:80: RuntimeWarning: invalid value encountered in double_scalars\n",
      "  ret = ret.dtype.type(ret / rcount)\n"
     ]
    }
   ],
   "source": [
    "nonzero_mat = fill_sentiment_matrix(empty_matrix=mat)"
   ]
  },
  {
   "cell_type": "code",
   "execution_count": 61,
   "metadata": {},
   "outputs": [
    {
     "data": {
      "text/html": [
       "<div>\n",
       "<style>\n",
       "    .dataframe thead tr:only-child th {\n",
       "        text-align: right;\n",
       "    }\n",
       "\n",
       "    .dataframe thead th {\n",
       "        text-align: left;\n",
       "    }\n",
       "\n",
       "    .dataframe tbody tr th {\n",
       "        vertical-align: top;\n",
       "    }\n",
       "</style>\n",
       "<table border=\"1\" class=\"dataframe\">\n",
       "  <thead>\n",
       "    <tr style=\"text-align: right;\">\n",
       "      <th></th>\n",
       "      <th>whiskey</th>\n",
       "      <th>hamburger</th>\n",
       "      <th>deli</th>\n",
       "      <th>sushi</th>\n",
       "    </tr>\n",
       "  </thead>\n",
       "  <tbody>\n",
       "    <tr>\n",
       "      <th>4bbf6b6430c99c74302a5511</th>\n",
       "      <td>0</td>\n",
       "      <td>0</td>\n",
       "      <td>0.000000</td>\n",
       "      <td>0</td>\n",
       "    </tr>\n",
       "    <tr>\n",
       "      <th>4baff5d9f964a5207c2e3ce3</th>\n",
       "      <td>0</td>\n",
       "      <td>0</td>\n",
       "      <td>0.000000</td>\n",
       "      <td>0</td>\n",
       "    </tr>\n",
       "    <tr>\n",
       "      <th>5018507fe4b03a729d0b40f9</th>\n",
       "      <td>0</td>\n",
       "      <td>0</td>\n",
       "      <td>0.801052</td>\n",
       "      <td>0</td>\n",
       "    </tr>\n",
       "    <tr>\n",
       "      <th>3fd66200f964a5209ae31ee3</th>\n",
       "      <td>0</td>\n",
       "      <td>0</td>\n",
       "      <td>0.944869</td>\n",
       "      <td>0</td>\n",
       "    </tr>\n",
       "    <tr>\n",
       "      <th>3fd66200f964a520ade61ee3</th>\n",
       "      <td>0</td>\n",
       "      <td>0</td>\n",
       "      <td>0.932581</td>\n",
       "      <td>0</td>\n",
       "    </tr>\n",
       "  </tbody>\n",
       "</table>\n",
       "</div>"
      ],
      "text/plain": [
       "                          whiskey  hamburger      deli  sushi\n",
       "4bbf6b6430c99c74302a5511        0          0  0.000000      0\n",
       "4baff5d9f964a5207c2e3ce3        0          0  0.000000      0\n",
       "5018507fe4b03a729d0b40f9        0          0  0.801052      0\n",
       "3fd66200f964a5209ae31ee3        0          0  0.944869      0\n",
       "3fd66200f964a520ade61ee3        0          0  0.932581      0"
      ]
     },
     "execution_count": 61,
     "metadata": {},
     "output_type": "execute_result"
    }
   ],
   "source": [
    "nonzero_mat"
   ]
  },
  {
   "cell_type": "code",
   "execution_count": 99,
   "metadata": {
    "collapsed": true
   },
   "outputs": [],
   "source": [
    "def recommend(score_mat, user_vec, venues_ids, top_n):\n",
    "    score_vec = pd.Series(np.dot(score_mat, user_vec), index=venues_ids) \n",
    "    return score_vec.sort_values(ascending=False)[:top_n].index.values"
   ]
  },
  {
   "cell_type": "code",
   "execution_count": 63,
   "metadata": {
    "collapsed": true
   },
   "outputs": [],
   "source": [
    "s_vec = recommend(nonzero_mat, pref_vec, venue_ids, 3)"
   ]
  },
  {
   "cell_type": "code",
   "execution_count": 64,
   "metadata": {},
   "outputs": [
    {
     "data": {
      "text/plain": [
       "array(['3fd66200f964a5209ae31ee3', '3fd66200f964a520ade61ee3',\n",
       "       '5018507fe4b03a729d0b40f9'], dtype=object)"
      ]
     },
     "execution_count": 64,
     "metadata": {},
     "output_type": "execute_result"
    }
   ],
   "source": [
    "s_vec"
   ]
  },
  {
   "cell_type": "code",
   "execution_count": 65,
   "metadata": {},
   "outputs": [
    {
     "name": "stdout",
     "output_type": "stream",
     "text": [
      "3fd66200f964a5209ae31ee3\n",
      "3fd66200f964a520ade61ee3\n",
      "5018507fe4b03a729d0b40f9\n"
     ]
    }
   ],
   "source": [
    "for k in s_vec:\n",
    "    print(k)"
   ]
  },
  {
   "cell_type": "code",
   "execution_count": 66,
   "metadata": {},
   "outputs": [
    {
     "data": {
      "text/plain": [
       "'4baff5d9f964a5207c2e3ce3'"
      ]
     },
     "execution_count": 66,
     "metadata": {},
     "output_type": "execute_result"
    }
   ],
   "source": [
    "mat.index[1]"
   ]
  },
  {
   "cell_type": "code",
   "execution_count": 67,
   "metadata": {
    "collapsed": true
   },
   "outputs": [],
   "source": [
    "test_mat = mat"
   ]
  },
  {
   "cell_type": "code",
   "execution_count": 68,
   "metadata": {},
   "outputs": [
    {
     "data": {
      "text/plain": [
       "nan"
      ]
     },
     "execution_count": 68,
     "metadata": {},
     "output_type": "execute_result"
    }
   ],
   "source": [
    "test_mat.loc['4bbf6b6430c99c74302a5511','deli']"
   ]
  },
  {
   "cell_type": "code",
   "execution_count": 69,
   "metadata": {
    "collapsed": true
   },
   "outputs": [],
   "source": [
    "test = pull_foursquare_json('4baff5d9f964a5207c2e3ce3')"
   ]
  },
  {
   "cell_type": "code",
   "execution_count": 70,
   "metadata": {},
   "outputs": [
    {
     "data": {
      "text/plain": [
       "{'meta': {'code': 200, 'requestId': '59187d88351e3d2025d10762'},\n",
       " 'response': {'tips': {'count': 4,\n",
       "   'items': [{'agreeCount': 0,\n",
       "     'canonicalUrl': 'https://foursquare.com/item/4ef907bca69dea74fc14e810',\n",
       "     'createdAt': 1324943292,\n",
       "     'disagreeCount': 0,\n",
       "     'id': '4ef907bca69dea74fc14e810',\n",
       "     'lang': 'en',\n",
       "     'likes': {'count': 0, 'groups': []},\n",
       "     'logView': True,\n",
       "     'text': \"Tip is included in the bill, regardless of size of group. Odd that they don't mention it upfront. It is 20%.\",\n",
       "     'todo': {'count': 1},\n",
       "     'type': 'user',\n",
       "     'user': {'firstName': 'Shai',\n",
       "      'gender': 'male',\n",
       "      'id': '65966',\n",
       "      'lastName': 'Goldman',\n",
       "      'photo': {'prefix': 'https://igx.4sqi.net/img/user/',\n",
       "       'suffix': '/65966_1255916715179.jpg'}}},\n",
       "    {'agreeCount': 0,\n",
       "     'canonicalUrl': 'https://foursquare.com/item/4e4f07bcd22daf51d270dd18',\n",
       "     'createdAt': 1313802172,\n",
       "     'disagreeCount': 0,\n",
       "     'id': '4e4f07bcd22daf51d270dd18',\n",
       "     'lang': 'en',\n",
       "     'likes': {'count': 0, 'groups': []},\n",
       "     'logView': True,\n",
       "     'text': 'Homemade pasta is really good',\n",
       "     'todo': {'count': 0},\n",
       "     'type': 'user',\n",
       "     'user': {'firstName': 'Damià',\n",
       "      'gender': 'male',\n",
       "      'id': '5347548',\n",
       "      'lastName': 'Gallardo',\n",
       "      'photo': {'prefix': 'https://igx.4sqi.net/img/user/',\n",
       "       'suffix': '/TDGXAGZXDJAIKSNT.jpg'}}},\n",
       "    {'agreeCount': 0,\n",
       "     'canonicalUrl': 'https://foursquare.com/item/4dc1a6b7d16455f8322e2cbe',\n",
       "     'createdAt': 1304536759,\n",
       "     'disagreeCount': 0,\n",
       "     'id': '4dc1a6b7d16455f8322e2cbe',\n",
       "     'lang': 'en',\n",
       "     'likes': {'count': 0, 'groups': []},\n",
       "     'logView': True,\n",
       "     'text': 'Get the lobster ravioli.',\n",
       "     'todo': {'count': 0},\n",
       "     'type': 'user',\n",
       "     'user': {'firstName': 'Wesley',\n",
       "      'gender': 'male',\n",
       "      'id': '3909546',\n",
       "      'lastName': 'Clausom',\n",
       "      'photo': {'prefix': 'https://igx.4sqi.net/img/user/',\n",
       "       'suffix': '/G2T2NT4HOSH4IGRQ.jpg'}}},\n",
       "    {'agreeCount': 0,\n",
       "     'canonicalUrl': 'https://foursquare.com/item/4c9ec80b7c096dcbd1eed8d1',\n",
       "     'createdAt': 1285474315,\n",
       "     'disagreeCount': 0,\n",
       "     'id': '4c9ec80b7c096dcbd1eed8d1',\n",
       "     'lang': 'en',\n",
       "     'likes': {'count': 0, 'groups': []},\n",
       "     'logView': True,\n",
       "     'text': 'Great salad and pasta.',\n",
       "     'todo': {'count': 0},\n",
       "     'type': 'user',\n",
       "     'user': {'firstName': 'Terence',\n",
       "      'gender': 'male',\n",
       "      'id': '225404',\n",
       "      'lastName': 'Meade',\n",
       "      'photo': {'prefix': 'https://igx.4sqi.net/img/user/',\n",
       "       'suffix': '/ZZ4UYIN1O1GSK1BX.jpg'}}}]}}}"
      ]
     },
     "execution_count": 70,
     "metadata": {},
     "output_type": "execute_result"
    }
   ],
   "source": [
    "test"
   ]
  },
  {
   "cell_type": "markdown",
   "metadata": {},
   "source": [
    "## Get sentiment score from Watson"
   ]
  },
  {
   "cell_type": "code",
   "execution_count": 71,
   "metadata": {
    "collapsed": true
   },
   "outputs": [],
   "source": [
    "nlu = watson_developer_cloud.NaturalLanguageUnderstandingV1(version='2017-02-27',\n",
    "                                                            username=username,\n",
    "                                                            password=password)"
   ]
  },
  {
   "cell_type": "code",
   "execution_count": 72,
   "metadata": {
    "collapsed": true
   },
   "outputs": [],
   "source": [
    "output= nlu.analyze(text='this is my experimental text.  Bruce Banner is the Hulk and Bruce Wayne is BATMAN! Superman fears not Banner, but Wayne.',\n",
    "            features=[features.Sentiment()])"
   ]
  },
  {
   "cell_type": "code",
   "execution_count": 73,
   "metadata": {},
   "outputs": [
    {
     "data": {
      "text/plain": [
       "{'language': 'en',\n",
       " 'sentiment': {'document': {'label': 'positive', 'score': 0.922588}}}"
      ]
     },
     "execution_count": 73,
     "metadata": {},
     "output_type": "execute_result"
    }
   ],
   "source": [
    "output"
   ]
  },
  {
   "cell_type": "code",
   "execution_count": 74,
   "metadata": {},
   "outputs": [
    {
     "data": {
      "text/plain": [
       "0.922588"
      ]
     },
     "execution_count": 74,
     "metadata": {},
     "output_type": "execute_result"
    }
   ],
   "source": [
    "output['sentiment']['document']['score']"
   ]
  },
  {
   "cell_type": "code",
   "execution_count": 75,
   "metadata": {},
   "outputs": [
    {
     "data": {
      "text/plain": [
       "0.72888"
      ]
     },
     "execution_count": 75,
     "metadata": {},
     "output_type": "execute_result"
    }
   ],
   "source": [
    "sentiment('A great place to come for classic Italian comfort food - the rice balls and meatball sliders are must-order dishes. For those with a gluten allergy, they make delicious gluten-free homemade pastas.')"
   ]
  },
  {
   "cell_type": "code",
   "execution_count": 76,
   "metadata": {},
   "outputs": [
    {
     "data": {
      "text/plain": [
       "0.0"
      ]
     },
     "execution_count": 76,
     "metadata": {},
     "output_type": "execute_result"
    }
   ],
   "source": [
    "sentiment(\"I'll only recommend this place if you're around the area and feel the need to try the baos or want that fries fix but I will not be returning due to the fact better baos can be found elsewhere.\")"
   ]
  },
  {
   "cell_type": "code",
   "execution_count": 78,
   "metadata": {},
   "outputs": [],
   "source": [
    "pref_vec, topic_idx = combine_u_prefs(randy_dict, u_1_dict, 25)"
   ]
  },
  {
   "cell_type": "code",
   "execution_count": 79,
   "metadata": {},
   "outputs": [
    {
     "data": {
      "text/plain": [
       "whiskey                   10.301252\n",
       "sushi                      7.210876\n",
       "mexican                    6.901839\n",
       "drinks                     6.592801\n",
       "korean                     5.150626\n",
       "russian                    4.120501\n",
       "tacos                      3.090376\n",
       "Coffee                     2.743785\n",
       "Espresso                   1.890070\n",
       "Starbucks                  1.558839\n",
       "English-language films     1.421508\n",
       "Bagel                      1.050810\n",
       "Milkshake                  1.000000\n",
       "McDonald's                 0.985316\n",
       "Coffeehouse                0.980803\n",
       "Meal                       0.836334\n",
       "Drive-through              0.830348\n",
       "Fast food                  0.765008\n",
       "Tea                        0.764299\n",
       "Buffalo wings              0.746126\n",
       "2006 albums                0.723834\n",
       "Bread                      0.677355\n",
       "Debut albums               0.555268\n",
       "New York City              0.549631\n",
       "Sandwich                   0.533137\n",
       "dtype: float64"
      ]
     },
     "execution_count": 79,
     "metadata": {},
     "output_type": "execute_result"
    }
   ],
   "source": [
    "pref_vec"
   ]
  },
  {
   "cell_type": "code",
   "execution_count": 80,
   "metadata": {},
   "outputs": [
    {
     "data": {
      "text/plain": [
       "['whiskey',\n",
       " 'sushi',\n",
       " 'mexican',\n",
       " 'drinks',\n",
       " 'korean',\n",
       " 'russian',\n",
       " 'tacos',\n",
       " 'Coffee',\n",
       " 'Espresso',\n",
       " 'Starbucks',\n",
       " 'English-language films',\n",
       " 'Bagel',\n",
       " 'Milkshake',\n",
       " \"McDonald's\",\n",
       " 'Coffeehouse',\n",
       " 'Meal',\n",
       " 'Drive-through',\n",
       " 'Fast food',\n",
       " 'Tea',\n",
       " 'Buffalo wings',\n",
       " '2006 albums',\n",
       " 'Bread',\n",
       " 'Debut albums',\n",
       " 'New York City',\n",
       " 'Sandwich']"
      ]
     },
     "execution_count": 80,
     "metadata": {},
     "output_type": "execute_result"
    }
   ],
   "source": [
    "topic_idx"
   ]
  },
  {
   "cell_type": "code",
   "execution_count": 83,
   "metadata": {},
   "outputs": [],
   "source": [
    "empt_mat = construct_matrix(adriano_venues, topic_idx)"
   ]
  },
  {
   "cell_type": "code",
   "execution_count": 92,
   "metadata": {},
   "outputs": [
    {
     "name": "stderr",
     "output_type": "stream",
     "text": [
      "/home/kt12/anaconda3/lib/python3.6/site-packages/numpy/core/fromnumeric.py:2889: RuntimeWarning: Mean of empty slice.\n",
      "  out=out, **kwargs)\n",
      "/home/kt12/anaconda3/lib/python3.6/site-packages/numpy/core/_methods.py:80: RuntimeWarning: invalid value encountered in double_scalars\n",
      "  ret = ret.dtype.type(ret / rcount)\n"
     ]
    }
   ],
   "source": [
    "sent_mat = fill_sentiment_matrix(empt_mat)"
   ]
  },
  {
   "cell_type": "code",
   "execution_count": 94,
   "metadata": {},
   "outputs": [
    {
     "data": {
      "text/plain": [
       "(30, 25)"
      ]
     },
     "execution_count": 94,
     "metadata": {},
     "output_type": "execute_result"
    }
   ],
   "source": [
    "sent_mat.shape"
   ]
  },
  {
   "cell_type": "code",
   "execution_count": 96,
   "metadata": {},
   "outputs": [
    {
     "data": {
      "text/plain": [
       "30"
      ]
     },
     "execution_count": 96,
     "metadata": {},
     "output_type": "execute_result"
    }
   ],
   "source": [
    "len(adriano_venues)"
   ]
  },
  {
   "cell_type": "code",
   "execution_count": 98,
   "metadata": {},
   "outputs": [
    {
     "data": {
      "text/plain": [
       "25"
      ]
     },
     "execution_count": 98,
     "metadata": {},
     "output_type": "execute_result"
    }
   ],
   "source": [
    "len(pref_vec)"
   ]
  },
  {
   "cell_type": "code",
   "execution_count": 100,
   "metadata": {},
   "outputs": [],
   "source": [
    "vens = recommend(sent_mat, pref_vec, adriano_venues, 5)"
   ]
  },
  {
   "cell_type": "code",
   "execution_count": 101,
   "metadata": {},
   "outputs": [
    {
     "data": {
      "text/plain": [
       "array(['5894e784e786b25ad37bb0b9', '57ae60d5498eeb5b2be11669',\n",
       "       '3fd66200f964a5203fe51ee3', '4b81d8ccf964a520efc030e3',\n",
       "       '515392c4e4b0f03a43c69fce'], dtype=object)"
      ]
     },
     "execution_count": 101,
     "metadata": {},
     "output_type": "execute_result"
    }
   ],
   "source": [
    "vens"
   ]
  }
 ],
 "metadata": {
  "kernelspec": {
   "display_name": "Python 3",
   "language": "python",
   "name": "python3"
  },
  "language_info": {
   "codemirror_mode": {
    "name": "ipython",
    "version": 3
   },
   "file_extension": ".py",
   "mimetype": "text/x-python",
   "name": "python",
   "nbconvert_exporter": "python",
   "pygments_lexer": "ipython3",
   "version": "3.6.0"
  }
 },
 "nbformat": 4,
 "nbformat_minor": 2
}
